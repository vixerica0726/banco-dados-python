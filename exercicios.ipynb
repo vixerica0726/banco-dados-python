{
  "nbformat": 4,
  "nbformat_minor": 0,
  "metadata": {
    "colab": {
      "private_outputs": true,
      "provenance": [],
      "authorship_tag": "ABX9TyMlGOPtrLfmTrgeP6sbUKmC",
      "include_colab_link": true
    },
    "kernelspec": {
      "name": "python3",
      "display_name": "Python 3"
    },
    "language_info": {
      "name": "python"
    }
  },
  "cells": [
    {
      "cell_type": "markdown",
      "metadata": {
        "id": "view-in-github",
        "colab_type": "text"
      },
      "source": [
        "<a href=\"https://colab.research.google.com/github/vixerica0726/banco-dados-python/blob/main/exercicios.ipynb\" target=\"_parent\"><img src=\"https://colab.research.google.com/assets/colab-badge.svg\" alt=\"Open In Colab\"/></a>"
      ]
    },
    {
      "cell_type": "code",
      "execution_count": null,
      "metadata": {
        "id": "V3lCrAdvyGhd"
      },
      "outputs": [],
      "source": [
        "import sqlite3  # Importando o módulo sqlite3\n",
        "\n",
        "conexao = sqlite3.connect('exerciciosbancodedados')\n",
        "cursor = conexao.cursor()  # Criando um cursor\n",
        "print('Conexão realizada com sucesso!')"
      ]
    },
    {
      "cell_type": "code",
      "source": [
        "# 1. Criar a tabela chamada \"alunos\" com os campos: id, nome, idade e curso.\n",
        "cursor.execute(\"\"\"\n",
        "CREATE TABLE IF NOT EXISTS alunos (\n",
        "    id INTEGER PRIMARY KEY AUTOINCREMENT,\n",
        "    nome TEXT NOT NULL,\n",
        "    idade INTEGER NOT NULL,\n",
        "    curso TEXT NOT NULL\n",
        ")\n",
        "\"\"\")\n",
        "print(\"Tabela criada com sucesso!\")"
      ],
      "metadata": {
        "id": "SMNtBl0YyawT"
      },
      "execution_count": null,
      "outputs": []
    },
    {
      "cell_type": "code",
      "source": [
        "# 2. Inserir 5 registros de alunos na tabela \"alunos\"\n",
        "alunos = [\n",
        "    (\"Nathan Felix\", 23, \"Engenharia\"),\n",
        "    (\"David Pin\", 25, \"Marketing\"),\n",
        "    (\"Erica Oliveira\", 19, \"Análise de dados\"),\n",
        "    (\"Martha Souza\", 36, \"Enfermagem\"),\n",
        "    (\"Clarice Santos\", 22, \"Administração\"),\n",
        "    (\"Allan\", 31, \"Mecânica\")\n",
        "]\n",
        "# Inserir os dados na tabela 'alunos'\n",
        "cursor.executemany('INSERT INTO alunos(nome, idade, curso) VALUES (?, ?, ?)', alunos)\n",
        "print(\"Dados inseridos com sucesso!\")"
      ],
      "metadata": {
        "id": "WnSxUz-Qygw-"
      },
      "execution_count": null,
      "outputs": []
    },
    {
      "cell_type": "code",
      "source": [
        "# 3. Consultas Básicas\n",
        "# a) Mostrar todos os alunos\n",
        "print(\"Todos os alunos:\")\n",
        "visualizar = cursor.execute('SELECT * FROM alunos')\n",
        "for aluno in visualizar:\n",
        "    print(aluno)\n",
        "\n",
        "# b) Alunos com mais de 20 anos\n",
        "print(\"\\nAlunos com mais de 20 anos:\")\n",
        "maiorIdade = cursor.execute('SELECT nome, idade FROM alunos WHERE idade > 20')\n",
        "for aluno in maiorIdade:\n",
        "    print(aluno)\n",
        "\n",
        "# c) Selecionar os alunos do curso de \"Engenharia\" em ordem alfabética.\n",
        "print('\\nAlunos engenharia')\n",
        "curso = cursor.execute(\"SELECT * FROM alunos WHERE curso LIKE '%Engenharia%' ORDER BY nome;\")\n",
        "for aluno in curso:\n",
        "    print(aluno)\n",
        "\n",
        "# d) Contar o número total de alunos na tabela\n",
        "print('\\n Número total de alunos')\n",
        "total = cursor.execute('SELECT COUNT(*) FROM alunos;')\n",
        "total_alunos = total.fetchone()[0]  # Obtendo o resultado da contagem\n",
        "print(f\"Total de alunos: {total_alunos}\")"
      ],
      "metadata": {
        "id": "WAAazDK3yk6p"
      },
      "execution_count": null,
      "outputs": []
    },
    {
      "cell_type": "code",
      "source": [
        "# 4. Atualização e Remoção\n",
        "\n",
        "# Atualizando a idade de um aluno específico\n",
        "idade_atual = 23  # Idade que será atualizada\n",
        "nova_idade = 25  # Nova idade\n",
        "\n",
        "cursor.execute('UPDATE alunos SET idade = ? WHERE idade = ?', (nova_idade, idade_atual))\n",
        "conexao.commit()\n",
        "\n",
        "print(\"Idade do aluno atualizada com sucesso!\")\n"
      ],
      "metadata": {
        "id": "UAIc2wfhyvI3"
      },
      "execution_count": null,
      "outputs": []
    },
    {
      "cell_type": "code",
      "source": [
        "# b) Remova um aluno pelo seu ID.\n",
        "# Removendo um aluno pelo ID\n",
        "id_aluno = 3  # ID do aluno a ser removido\n",
        "\n",
        "cursor.execute('DELETE FROM alunos WHERE id = ?', (id_aluno,))\n",
        "conexao.commit()\n",
        "\n",
        "print(f\"Aluno com ID {id_aluno} removido com sucesso!\")\n"
      ],
      "metadata": {
        "id": "ukoApgq0ys8C"
      },
      "execution_count": null,
      "outputs": []
    },
    {
      "cell_type": "code",
      "source": [
        "# 5. Criar uma Tabela e Inserir Dados\n",
        "# Criar a tabela \"clientes\" com os campos: id, nome, idade e saldo\n",
        "cursor.execute(\"\"\"\n",
        "CREATE TABLE IF NOT EXISTS clientes (\n",
        "    id INTEGER PRIMARY KEY AUTOINCREMENT,\n",
        "    nome TEXT NOT NULL,\n",
        "    idade INTEGER NOT NULL,\n",
        "    saldo FLOAT NOT NULL\n",
        ")\n",
        "\"\"\")\n",
        "conexao.commit()  # Confirma a criação da tabela\n",
        "\n",
        "# Inserir registros na tabela \"clientes\"\n",
        "clientes = [\n",
        "    (\"Lucas Silva\", 30, 5000.75),\n",
        "    (\"Maria Oliveira\", 45, 3500.50),\n",
        "    (\"José Santos\", 29, 1500.20),\n",
        "    (\"Ana Costa\", 55, 10000.00),\n",
        "    (\"Paulo Almeida\", 40, 2200.10)\n",
        "]\n",
        "\n",
        "cursor.executemany('INSERT INTO clientes (nome, idade, saldo) VALUES (?, ?, ?)', clientes)\n",
        "conexao.commit()  # Confirma a inserção dos registros\n",
        "\n",
        "print('Tabela \"clientes\" criada e dados inseridos com sucesso!')\n"
      ],
      "metadata": {
        "id": "3s8XsoojaLF5"
      },
      "execution_count": null,
      "outputs": []
    },
    {
      "cell_type": "code",
      "source": [
        "# 6. Consultas e Funções Agregadas\n",
        "# a) Selecione o nome e a idade dos clientes com idade superior a 30 anos\n",
        "cursor.execute('SELECT nome, idade FROM clientes WHERE idade > 30')\n",
        "resultado = cursor.fetchall()\n",
        "for cliente in resultado:\n",
        "    print(cliente)"
      ],
      "metadata": {
        "id": "Wqc-gp6eaqEO"
      },
      "execution_count": null,
      "outputs": []
    },
    {
      "cell_type": "code",
      "source": [
        "# b) Calcule o saldo médio dos clientes.\n",
        "print(\"\\nb) Saldo médio dos clientes:\")\n",
        "cursor.execute('SELECT AVG(saldo) FROM clientes')\n",
        "saldo_medio = cursor.fetchone()[0]  # Pegando o resultado da média\n",
        "print(f\"Saldo médio: {saldo_medio:.2f}\")"
      ],
      "metadata": {
        "id": "Iey4_IANc46C"
      },
      "execution_count": null,
      "outputs": []
    },
    {
      "cell_type": "code",
      "source": [
        "# c) Encontre o cliente com o saldo máximo\n",
        "print(\"\\nc) Cliente com o saldo máximo:\")\n",
        "cursor.execute('SELECT nome, saldo FROM clientes WHERE saldo = (SELECT MAX(saldo) FROM clientes)')\n",
        "cliente_max_saldo = cursor.fetchone()\n",
        "print(cliente_max_saldo)"
      ],
      "metadata": {
        "id": "iGOJWfI-dCs6"
      },
      "execution_count": null,
      "outputs": []
    },
    {
      "cell_type": "code",
      "source": [
        "# d) Contar quantos clientes têm saldo acima de 1000\n",
        "print(\"\\nd) Número de clientes com saldo acima de 1000:\")\n",
        "cursor.execute('SELECT COUNT(*) FROM clientes WHERE saldo > 1000')\n",
        "num_clientes = cursor.fetchone()[0]  # Pegando o número de clientes\n",
        "print(f\"Total de clientes com saldo acima de 1000: {num_clientes}\")"
      ],
      "metadata": {
        "id": "Vj8T16SOdS45"
      },
      "execution_count": null,
      "outputs": []
    },
    {
      "cell_type": "code",
      "source": [
        "# a) Atualizar o saldo de um cliente específico\n",
        "id_cliente = 3  # ID do cliente para o qual vamos atualizar o saldo\n",
        "novo_saldo = 3000.00  # Novo valor do saldo\n",
        "\n",
        "cursor.execute('UPDATE clientes SET saldo = ? WHERE id = ?', (novo_saldo, id_cliente))\n",
        "\n",
        "# b) Remover um cliente pelo seu ID\n",
        "id_cliente_remover = 2  # ID do cliente a ser removido\n",
        "\n",
        "cursor.execute('DELETE FROM clientes WHERE id = ?', (id_cliente_remover,))\n",
        "print(\"Cliente removido com sucesso!\")"
      ],
      "metadata": {
        "id": "PfJas0N4dd47"
      },
      "execution_count": null,
      "outputs": []
    },
    {
      "cell_type": "code",
      "source": [
        "# 3. Realizar a junção de tabelas para exibir o nome do cliente, produto e valor da compra\n",
        "print(\"Consulta: Nome do Cliente, Produto e Valor da Compra\")\n",
        "cursor.execute(\"\"\"\n",
        "SELECT clientes.nome, compras.produto, compras.valor\n",
        "FROM compras\n",
        "JOIN clientes ON compras.cliente_id = clientes.id\n",
        "\"\"\")\n",
        "for resultado in cursor.fetchall():\n",
        "    print(resultado)\n",
        "\n",
        "\n",
        "conexao.commit()  # Salvando as alterações\n",
        "conexao.close()  # Fechando a conexão\n",
        "\n",
        "print('Conexão realizada com sucesso!')"
      ],
      "metadata": {
        "id": "K7reYRqPdnja"
      },
      "execution_count": null,
      "outputs": []
    }
  ]
}