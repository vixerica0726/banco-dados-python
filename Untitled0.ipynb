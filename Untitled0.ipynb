{
  "nbformat": 4,
  "nbformat_minor": 0,
  "metadata": {
    "colab": {
      "private_outputs": true,
      "provenance": [],
      "authorship_tag": "ABX9TyOWKWVrDotaTi/K/QOsD/Qd",
      "include_colab_link": true
    },
    "kernelspec": {
      "name": "python3",
      "display_name": "Python 3"
    },
    "language_info": {
      "name": "python"
    }
  },
  "cells": [
    {
      "cell_type": "markdown",
      "metadata": {
        "id": "view-in-github",
        "colab_type": "text"
      },
      "source": [
        "<a href=\"https://colab.research.google.com/github/vixerica0726/banco-dados-python/blob/main/Untitled0.ipynb\" target=\"_parent\"><img src=\"https://colab.research.google.com/assets/colab-badge.svg\" alt=\"Open In Colab\"/></a>"
      ]
    },
    {
      "cell_type": "code",
      "execution_count": null,
      "metadata": {
        "id": "E6RgfV3wkTyf"
      },
      "outputs": [],
      "source": [
        "import sqlite3\n",
        "from google.colab import files\n",
        "\n",
        "# Definindo o caminho onde o banco de dados será salvo\n",
        "database_path = '/content/exerciciosbancodedados.db'\n",
        "\n",
        "# Conectando ao banco de dados\n",
        "conexao = sqlite3.connect(database_path)\n",
        "cursor = conexao.cursor()\n",
        "print('Conexão realizada com sucesso!')\n"
      ]
    },
    {
      "cell_type": "code",
      "source": [
        "# 1. Criar a tabela chamada \"alunos\" com os campos: id, nome, idade e curso.\n",
        "cursor.execute(\"\"\"\n",
        "CREATE TABLE IF NOT EXISTS alunos (\n",
        "    id INTEGER PRIMARY KEY AUTOINCREMENT,\n",
        "    nome TEXT NOT NULL,\n",
        "    idade INTEGER NOT NULL,\n",
        "    curso TEXT NOT NULL\n",
        ")\n",
        "\"\"\")\n",
        "print(\"Tabela 'alunos' criada com sucesso!\")\n"
      ],
      "metadata": {
        "id": "KsDjIOr0kdUR"
      },
      "execution_count": null,
      "outputs": []
    },
    {
      "cell_type": "code",
      "source": [
        "# 2. Inserir 5 registros de alunos na tabela \"alunos\"\n",
        "alunos = [\n",
        "    (\"Nathan Felix\", 23, \"Engenharia\"),\n",
        "    (\"David Pin\", 25, \"Marketing\"),\n",
        "    (\"Erica Oliveira\", 19, \"Análise de dados\"),\n",
        "    (\"Martha Souza\", 36, \"Enfermagem\"),\n",
        "    (\"Clarice Santos\", 22, \"Administração\"),\n",
        "    (\"Allan\", 31, \"Mecânica\")\n",
        "]\n",
        "cursor.executemany('INSERT INTO alunos(nome, idade, curso) VALUES (?, ?, ?)', alunos)\n",
        "print(\"Dados de alunos inseridos com sucesso!\")\n"
      ],
      "metadata": {
        "id": "yc1ccr9Ekh5f"
      },
      "execution_count": null,
      "outputs": []
    },
    {
      "cell_type": "code",
      "source": [
        "# 3. Consultas Básicas\n",
        "# a) Mostrar todos os alunos\n",
        "print(\"Todos os alunos:\")\n",
        "visualizar = cursor.execute('SELECT * FROM alunos')\n",
        "for aluno in visualizar:\n",
        "    print(aluno)\n",
        "\n",
        "# b) Alunos com mais de 20 anos\n",
        "print(\"\\nAlunos com mais de 20 anos:\")\n",
        "maiorIdade = cursor.execute('SELECT nome, idade FROM alunos WHERE idade > 20')\n",
        "for aluno in maiorIdade:\n",
        "    print(aluno)\n",
        "\n",
        "# c) Selecionar os alunos do curso de \"Engenharia\" em ordem alfabética.\n",
        "print('\\nAlunos de Engenharia:')\n",
        "curso = cursor.execute(\"SELECT * FROM alunos WHERE curso LIKE '%Engenharia%' ORDER BY nome;\")\n",
        "for aluno in curso:\n",
        "    print(aluno)\n",
        "\n",
        "# d) Contar o número total de alunos na tabela\n",
        "print('\\nNúmero total de alunos:')\n",
        "total = cursor.execute('SELECT COUNT(*) FROM alunos;')\n",
        "total_alunos = total.fetchone()[0]\n",
        "print(f\"Total de alunos: {total_alunos}\")"
      ],
      "metadata": {
        "id": "L92m_trjklAY"
      },
      "execution_count": null,
      "outputs": []
    },
    {
      "cell_type": "code",
      "source": [
        "# 4. Atualização e Remoção\n",
        "# Atualizando a idade de um aluno específico\n",
        "idade_atual = 23\n",
        "nova_idade = 25\n",
        "cursor.execute('UPDATE alunos SET idade = ? WHERE idade = ?', (nova_idade, idade_atual))\n",
        "conexao.commit()\n",
        "print(\"Idade do aluno atualizada com sucesso!\")\n",
        "\n",
        "# b) Remover um aluno pelo seu ID.\n",
        "id_aluno = 3\n",
        "cursor.execute('DELETE FROM alunos WHERE id = ?', (id_aluno,))\n",
        "conexao.commit()\n",
        "print(f\"Aluno com ID {id_aluno} removido com sucesso!\")"
      ],
      "metadata": {
        "id": "do-FrsInkoen"
      },
      "execution_count": null,
      "outputs": []
    },
    {
      "cell_type": "code",
      "source": [
        "# 5. Criar uma Tabela e Inserir Dados\n",
        "cursor.execute(\"\"\"\n",
        "CREATE TABLE IF NOT EXISTS clientes (\n",
        "    id INTEGER PRIMARY KEY AUTOINCREMENT,\n",
        "    nome TEXT NOT NULL,\n",
        "    idade INTEGER NOT NULL,\n",
        "    saldo FLOAT NOT NULL\n",
        ")\n",
        "\"\"\")\n",
        "conexao.commit()\n",
        "\n",
        "clientes = [\n",
        "    (\"Lucas Silva\", 30, 5000.75),\n",
        "    (\"Maria Oliveira\", 45, 3500.50),\n",
        "    (\"José Santos\", 29, 1500.20),\n",
        "    (\"Ana Costa\", 55, 10000.00),\n",
        "    (\"Paulo Almeida\", 40, 2200.10)\n",
        "]\n",
        "cursor.executemany('INSERT INTO clientes (nome, idade, saldo) VALUES (?, ?, ?)', clientes)\n",
        "conexao.commit()\n",
        "print('Tabela \"clientes\" criada e dados inseridos com sucesso!')"
      ],
      "metadata": {
        "id": "dQeOlLmIksZQ"
      },
      "execution_count": null,
      "outputs": []
    },
    {
      "cell_type": "code",
      "source": [
        "# Consultas e Funções Agregadas\n",
        "cursor.execute('SELECT nome, idade FROM clientes WHERE idade > 30')\n",
        "resultado = cursor.fetchall()\n",
        "for cliente in resultado:\n",
        "    print(cliente)\n",
        "\n",
        "cursor.execute('SELECT AVG(saldo) FROM clientes')\n",
        "saldo_medio = cursor.fetchone()[0]\n",
        "print(f\"\\nSaldo médio dos clientes: {saldo_medio:.2f}\")\n",
        "\n",
        "cursor.execute('SELECT nome, saldo FROM clientes WHERE saldo = (SELECT MAX(saldo) FROM clientes)')\n",
        "cliente_max_saldo = cursor.fetchone()\n",
        "print(f\"\\nCliente com saldo máximo: {cliente_max_saldo}\")\n",
        "\n",
        "cursor.execute('SELECT COUNT(*) FROM clientes WHERE saldo > 1000')\n",
        "num_clientes = cursor.fetchone()[0]\n",
        "print(f\"\\nNúmero de clientes com saldo acima de 1000: {num_clientes}\")\n"
      ],
      "metadata": {
        "id": "XqrfVk_mkvhJ"
      },
      "execution_count": null,
      "outputs": []
    },
    {
      "cell_type": "code",
      "source": [
        "# Atualizar saldo de um cliente específico\n",
        "id_cliente = 3\n",
        "novo_saldo = 3000.00\n",
        "cursor.execute('UPDATE clientes SET saldo = ? WHERE id = ?', (novo_saldo, id_cliente))\n",
        "\n",
        "# Remover um cliente pelo seu ID\n",
        "id_cliente_remover = 2\n",
        "cursor.execute('DELETE FROM clientes WHERE id = ?', (id_cliente_remover,))\n",
        "print(\"Cliente removido com sucesso!\")"
      ],
      "metadata": {
        "id": "WwgnbW7QlBap"
      },
      "execution_count": null,
      "outputs": []
    },
    {
      "cell_type": "code",
      "source": [
        "import sqlite3\n",
        "from google.colab import files\n",
        "\n",
        "# Definindo o caminho onde o banco de dados será salvo\n",
        "database_path = '/content/exerciciosbancodedados.db'\n",
        "\n",
        "# Conectando ao banco de dados novamente (reabrindo a conexão)\n",
        "conexao = sqlite3.connect(database_path)\n",
        "cursor = conexao.cursor()\n",
        "print('Conexão realizada com sucesso!')\n",
        "\n",
        "# Criar a tabela \"compras\" com os campos: id (chave primária), cliente_id (chave estrangeira referenciando a tabela \"clientes\"), produto e valor\n",
        "cursor.execute(\"\"\"\n",
        "CREATE TABLE IF NOT EXISTS compras (\n",
        "    id INTEGER PRIMARY KEY AUTOINCREMENT,\n",
        "    cliente_id INTEGER,\n",
        "    produto TEXT NOT NULL,\n",
        "    valor REAL NOT NULL,\n",
        "    FOREIGN KEY (cliente_id) REFERENCES clientes(id)\n",
        ")\n",
        "\"\"\")\n",
        "conexao.commit()\n",
        "print(\"Tabela 'compras' criada com sucesso!\")\n",
        "\n",
        "# Inserir algumas compras associadas aos clientes existentes\n",
        "compras = [\n",
        "    (1, \"Produto A\", 200.50),\n",
        "    (2, \"Produto B\", 150.30),\n",
        "    (3, \"Produto C\", 500.00),\n",
        "    (4, \"Produto D\", 350.75),\n",
        "    (5, \"Produto E\", 120.20)\n",
        "]\n",
        "\n",
        "# Inserir as compras na tabela \"compras\"\n",
        "cursor.executemany('INSERT INTO compras (cliente_id, produto, valor) VALUES (?, ?, ?)', compras)\n",
        "conexao.commit()\n",
        "print(\"Dados de compras inseridos com sucesso!\")\n",
        "\n",
        "# Consultar o nome do cliente, produto e valor da compra\n",
        "print(\"\\nConsulta: Nome do Cliente, Produto e Valor da Compra\")\n",
        "cursor.execute(\"\"\"\n",
        "SELECT clientes.nome, compras.produto, compras.valor\n",
        "FROM compras\n",
        "JOIN clientes ON compras.cliente_id = clientes.id\n",
        "\"\"\")\n",
        "\n",
        "# Exibir os resultados\n",
        "for resultado in cursor.fetchall():\n",
        "    print(resultado)\n",
        "\n",
        "# Finalizando a conexão\n",
        "conexao.commit()\n",
        "\n",
        "# Para compartilhar o arquivo SQLite\n",
        "files.download(database_path)\n",
        "conexao.close()\n",
        "print('Conexão fechada e arquivo pronto para download!')\n"
      ],
      "metadata": {
        "id": "--3PvqQblLkS"
      },
      "execution_count": null,
      "outputs": []
    }
  ]
}